{
 "cells": [
  {
   "cell_type": "markdown",
   "id": "4e8b1fba",
   "metadata": {},
   "source": []
  },
  {
   "cell_type": "code",
   "execution_count": null,
   "id": "bd9e44e7",
   "metadata": {},
   "outputs": [],
   "source": [
    "import pandas as pd\n",
    "from statsmodels.datasets import get_rdataset\n",
    "from statsmodels.tsa.arima.model import ARIMA\n",
    "\n",
    "# 获取AirPassengers数据集\n",
    "data = get_rdataset('AirPassengers').data\n",
    "\n",
    "# 将Month列转换为日期类型\n",
    "data['Month'] = pd.to_datetime(data['Month'])\n",
    "\n",
    "# 将Month列设置为索引列\n",
    "data.set_index('Month', inplace=True)\n",
    "\n",
    "# 拆分数据集为训练集和测试集\n",
    "train_data = data[:'1959']\n",
    "test_data = data['1960':]\n",
    "\n",
    "# 创建ARIMA模型\n",
    "model = ARIMA(train_data, order=(2, 1, 2))\n",
    "\n",
    "# 拟合模型\n",
    "model_fit = model.fit()\n",
    "\n",
    "# 预测未来值\n",
    "predictions = model_fit.predict(start='1960-01-01', end='1960-12-01', dynamic=False)\n",
    "\n",
    "# 打印预测结果\n",
    "print(predictions)"
   ]
  }
 ],
 "metadata": {
  "kernelspec": {
   "display_name": "Python 3 (ipykernel)",
   "language": "python",
   "name": "python3"
  },
  "language_info": {
   "codemirror_mode": {
    "name": "ipython",
    "version": 3
   },
   "file_extension": ".py",
   "mimetype": "text/x-python",
   "name": "python",
   "nbconvert_exporter": "python",
   "pygments_lexer": "ipython3",
   "version": "3.9.7"
  },
  "toc": {
   "base_numbering": 1,
   "nav_menu": {},
   "number_sections": true,
   "sideBar": true,
   "skip_h1_title": false,
   "title_cell": "Table of Contents",
   "title_sidebar": "Contents",
   "toc_cell": false,
   "toc_position": {},
   "toc_section_display": true,
   "toc_window_display": false
  },
  "varInspector": {
   "cols": {
    "lenName": 16,
    "lenType": 16,
    "lenVar": 40
   },
   "kernels_config": {
    "python": {
     "delete_cmd_postfix": "",
     "delete_cmd_prefix": "del ",
     "library": "var_list.py",
     "varRefreshCmd": "print(var_dic_list())"
    },
    "r": {
     "delete_cmd_postfix": ") ",
     "delete_cmd_prefix": "rm(",
     "library": "var_list.r",
     "varRefreshCmd": "cat(var_dic_list()) "
    }
   },
   "types_to_exclude": [
    "module",
    "function",
    "builtin_function_or_method",
    "instance",
    "_Feature"
   ],
   "window_display": false
  }
 },
 "nbformat": 4,
 "nbformat_minor": 5
}
